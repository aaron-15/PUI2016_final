{
 "cells": [
  {
   "cell_type": "markdown",
   "metadata": {},
   "source": [
    "## Finding the density of businesses\n",
    "\n",
    "To find the density devide the number of businesses by the area of the zipcode. the area of thezipcode can be found with from the *geometry* series in the GeoDataFrame of zipcodes. You did it in the [spatial analytics lab](https://github.com/fedhere/PUI2016_fb55/blob/master/Lab9_SRK325/GeospatialAnalysis_CitiBike.ipynb)"
   ]
  },
  {
   "cell_type": "markdown",
   "metadata": {},
   "source": [
    "## Merging\n",
    "\n",
    "Remember that the variable on which you merge has to be OF the SAME TYPE! you can use fncsions like \n",
    "    \n",
    "    zipcodesDF.zipcodes.astype(int) \n",
    "\n",
    "for example to convert the zipcodes from strings to integers if you need.\n",
    "\n",
    "You will need to merge the census tracts shaped GeoDataFrame and the census dataFrame to make maps. You may want to know the countyID:\n",
    "\n",
    "    countyID = {'Bronx':'005',\n",
    "           'Manhattan':'061',\n",
    "           'Staten Island':'085',\n",
    "           'Brooklyn':'047',\n",
    "           'Queens':'081'}\n",
    "\n",
    "( [hint](https://docs.google.com/document/d/1mt0lrTvupF2CLsyUnqufWLw28BKUWR6d4MnWAINwo-g/edit?usp=sharing) on how to use this dictionary)\n",
    " "
   ]
  },
  {
   "cell_type": "markdown",
   "metadata": {},
   "source": [
    "\n",
    "## Plotting a choropleth\n",
    "to plot a cloropleth from a GeoDataFrame gdf, with colors based on column \"thiscolumn\" simply\n",
    "\n",
    "    gdf.plot(column=\"thiscolumn\")\n",
    "\n",
    "if you want to choose a specific colormap: \n",
    "\n",
    "    gdf.plot(column=\"thiscolumn\", colormap=\"OrRd\")\n",
    "    \n",
    "you know this from a number of classes, especially the [spatial analytic lab]( https://github.com/fedhere/PUI2016_fb55/tree/master/Lab9_SRK325) with a number of nice colormap options.\n",
    "\n",
    "Try use the best [color map](http://matplotlib.org/examples/color/colormaps_reference.html) for what you want to show: *sequential* color maps are generally great, but if you want to show how far a number is from 0 you should use a *diverging* color map"
   ]
  },
  {
   "cell_type": "markdown",
   "metadata": {},
   "source": [
    "## Clustering\n",
    "\n",
    "you are not looking for very robust clustering here, so you do not have to spend too much time on thinking which is the best algorithm for clustering. KMeans would do just fine. \n",
    "But how do you nust make sure the clusters are the same? [hint](https://docs.google.com/document/d/1dl5mxBcsZEBxqrAeMa39OdlmA6kbLdmY9Ioj56_oUTA/edit?usp=sharing)\n",
    "\n",
    "Remember that clustering, at least with sklearn, requires to remove the nan values, and what else do you need to do to your data before you run the clustering algorithm??"
   ]
  },
  {
   "cell_type": "markdown",
   "metadata": {},
   "source": [
    "## Aggregating the census track features at the zipcode level\n",
    "this is the only novel thing in the homework which you have never done before:\n",
    "\n",
    "First make sure you have the right coordinates: both census GeoDataFrame and zipcode GeoDataFrame need to be in the same coordinate system (Lag10 and HW12). \n",
    "e.g.:\n",
    "    nyczips.crs\n",
    "    nyccensustracts.crs \n",
    "    \n",
    "should be the same\n",
    "\n",
    "\n",
    "Then \"aggregate\" all features by taking the mean over each census tract in a zipcode: for every census tract in a particular zipcode take the mean of all age values, of all population values, of all income values, and of all diversity values etc.\n",
    "\n",
    "\n",
    "Shapefiles read in with geopanda objects as GeoDataFrame contain the attribute geometry:\n",
    "\n",
    "    gdf.geometry\n",
    "\n",
    "that contains the attribute centroid\n",
    "\n",
    "    gdf.geometry.centroid\n",
    "\n",
    "which (generally) contains an object of type POINT which is a set of 2 numbers: the longitude and latitude in our case. To extract longitude and latitude you can pass the gdf.geometry.centroid object and pass it to a function such as the one below\n",
    "\n",
    "    def getXY(pt):\n",
    "        return pt.x, pt.y\n",
    "\n",
    "to find if a shape *contains* a file guide yourself with [HW12](https://github.com/fedhere/PUI2016_fb55/tree/master/HW12_fb55)\n",
    "You want to ask: \"does the SHAPE contain the POINT\n",
    "\n",
    "\n",
    "For each zipcode find the census tracts that are contained in it and take the mean of the features in those census tracts. This may take some computing time cause you will probably have to do it in a loop. So do some testing of your lines of code before running the entire loop and make sure you do not do it at the last minute!"
   ]
  },
  {
   "cell_type": "code",
   "execution_count": null,
   "metadata": {
    "collapsed": true
   },
   "outputs": [],
   "source": []
  }
 ],
 "metadata": {
  "kernelspec": {
   "display_name": "Python 2",
   "language": "python",
   "name": "python2"
  },
  "language_info": {
   "codemirror_mode": {
    "name": "ipython",
    "version": 2
   },
   "file_extension": ".py",
   "mimetype": "text/x-python",
   "name": "python",
   "nbconvert_exporter": "python",
   "pygments_lexer": "ipython2",
   "version": "2.7.11"
  }
 },
 "nbformat": 4,
 "nbformat_minor": 0
}
